{
 "cells": [
  {
   "cell_type": "code",
   "execution_count": null,
   "metadata": {},
   "outputs": [],
   "source": [
    "# Load Facebook's pre-trained multilingual model\n",
    "model_checkpoint = \"facebook/wav2vec2-large-xlsr-53\"\n",
    "\n",
    "# Set batch size for training\n",
    "batch_size = 32"
   ]
  },
  {
   "cell_type": "code",
   "execution_count": null,
   "metadata": {},
   "outputs": [],
   "source": [
    "%%capture\n",
    "# Install necessary libraries\n",
    "!pip install datasets    # Library for using and sharing datasets\n",
    "!pip install transformers==4.11.3   # Hugging Face's transformer models\n",
    "!pip install librosa    # Library for audio and music processing\n",
    "!pip install jiwer    # Calculate word error rate (WER)\n",
    "!pip install ipywidgets   # Interactive HTML widgets for Jupyter notebooks\n",
    "!pip install torch   # PyTorch library for deep learning\n",
    "\n"
   ]
  },
  {
   "cell_type": "code",
   "execution_count": null,
   "metadata": {},
   "outputs": [],
   "source": [
    "from huggingface_hub import notebook_login\n",
    "\n",
    "notebook_login() # Logs into Hugging Face from notebook"
   ]
  },
  {
   "cell_type": "code",
   "execution_count": null,
   "metadata": {},
   "outputs": [],
   "source": [
    "%%capture\n",
    "!apt install git-lfs # Installs Git Large File Storage extension"
   ]
  },
  {
   "cell_type": "code",
   "execution_count": null,
   "metadata": {},
   "outputs": [],
   "source": [
    "from datasets import load_dataset\n",
    "\n",
    "# Load the Samromur, Malromur or Althingi ASR dataset from Hugging Face's dataset hub. Comment out the two datasets that won't be loaded each time.\n",
    "dataset = load_dataset(\"language-and-voice-lab/samromur_asr\")\n",
    "#dataset = load_dataset(\"language-and-voice-lab/malromur_asr\")\n",
    "#dataset = load_dataset(\"language-and-voice-lab/althingi_asr\")\n"
   ]
  },
  {
   "cell_type": "code",
   "execution_count": null,
   "metadata": {},
   "outputs": [],
   "source": [
    "# Display the dataset\n",
    "dataset"
   ]
  },
  {
   "cell_type": "code",
   "execution_count": null,
   "metadata": {},
   "outputs": [],
   "source": [
    "\n",
    "# Function to rename the 'normalized_text' feature to 'text'\n",
    "def rename_normalized_text(example):\n",
    "    example['text'] = example['normalized_text']\n",
    "    del example['normalized_text']\n",
    "    return example\n",
    "\n",
    "# Apply the transformation to the dataset\n",
    "dataset = dataset.map(rename_normalized_text, remove_columns=['normalized_text'])\n",
    "\n",
    "# Check the new dataset\n",
    "print(dataset)"
   ]
  },
  {
   "cell_type": "code",
   "execution_count": null,
   "metadata": {},
   "outputs": [],
   "source": [
    "# Remove unnecessary columns from the dataset\n",
    "dataset = dataset.remove_columns([\"speaker_id\", \"gender\", \"age\", \"duration\"])"
   ]
  },
  {
   "cell_type": "code",
   "execution_count": null,
   "metadata": {},
   "outputs": [],
   "source": [
    "# Function to display random examples from the dataset\n",
    "def show_random_elements(dataset, num_examples=10):\n",
    "    assert num_examples <= len(dataset), \"Can't pick more elements than there are in the dataset.\"\n",
    "    picks = []\n",
    "    for _ in range(num_examples):\n",
    "        pick = random.randint(0, len(dataset)-1)\n",
    "        while pick in picks:\n",
    "            pick = random.randint(0, len(dataset)-1)\n",
    "        picks.append(pick)\n",
    "    \n",
    "    df = pd.DataFrame(dataset[picks])\n",
    "    display(HTML(df.to_html()))"
   ]
  },
  {
   "cell_type": "code",
   "execution_count": null,
   "metadata": {},
   "outputs": [],
   "source": [
    "# Display 10 random elements from the training set after removing 'audio' and 'audio_id' columns\n",
    "show_random_elements(dataset[\"train\"].remove_columns([\"audio\", \"audio_id\"]), num_examples=10)"
   ]
  },
  {
   "cell_type": "code",
   "execution_count": null,
   "metadata": {},
   "outputs": [],
   "source": [
    "# Define a list of special characters to ignore in the transcriptions\n",
    "chars_to_ignore_regex = '[\\,\\?\\.\\!\\-\\;\\:\\\"\\“\\%\\‘\\”\\�]'\n",
    "\n",
    "# Function to remove these special characters from the transcriptions and convert them to lower case\n",
    "def remove_special_characters(batch):\n",
    "    batch[\"text\"] = re.sub(chars_to_ignore_regex, '', batch[\"text\"]).lower() + \" \"\n",
    "    return batch"
   ]
  },
  {
   "cell_type": "code",
   "execution_count": null,
   "metadata": {},
   "outputs": [],
   "source": [
    "# Apply the function to remove special characters from the dataset\n",
    "dataset = dataset.map(remove_special_characters)"
   ]
  },
  {
   "cell_type": "code",
   "execution_count": null,
   "metadata": {},
   "outputs": [],
   "source": [
    "# Display random elements from the cleaned dataset\n",
    "show_random_elements(dataset[\"train\"].remove_columns([\"audio\", \"audio_id\"]))"
   ]
  },
  {
   "cell_type": "code",
   "execution_count": null,
   "metadata": {},
   "outputs": [],
   "source": [
    "# Function to extract unique characters from the batch\n",
    "def extract_all_chars(batch):\n",
    "  all_text = \" \".join(batch[\"text\"])\n",
    "  vocab = list(set(all_text))\n",
    "  return {\"vocab\": [vocab], \"all_text\": [all_text]}"
   ]
  },
  {
   "cell_type": "code",
   "execution_count": null,
   "metadata": {},
   "outputs": [],
   "source": [
    "# Mapping the function 'extract_all_chars' to the dataset\n",
    "vocabs = dataset.map(\n",
    "  extract_all_chars,  # Function to apply\n",
    "  batched=True,       # Apply function to batches of the dataset\n",
    "  batch_size=-1,      # Batch size (-1 means to use the full dataset as one batch)\n",
    "  keep_in_memory=True, # Keep all batches in memory while working\n",
    "  remove_columns=dataset.column_names[\"train\"] # Remove original columns while transforming\n",
    ")"
   ]
  },
  {
   "cell_type": "code",
   "execution_count": null,
   "metadata": {},
   "outputs": [],
   "source": [
    "# Merging the vocabularies from the train and test sets and creating a unique vocabulary list\n",
    "vocab_list = list(set(vocabs[\"train\"][\"vocab\"][0]) | set(vocabs[\"test\"][\"vocab\"][0]))"
   ]
  },
  {
   "cell_type": "code",
   "execution_count": null,
   "metadata": {},
   "outputs": [],
   "source": [
    "# Creating a dictionary where each unique character is associated with a unique integer\n",
    "vocab_dict = {v: k for k, v in enumerate(vocab_list)}\n",
    "# Display the dictionary\n",
    "vocab_dict"
   ]
  },
  {
   "cell_type": "code",
   "execution_count": null,
   "metadata": {},
   "outputs": [],
   "source": [
    "# Adjusting the dictionary to use \"|\" for space instead of \" \"\n",
    "vocab_dict[\"|\"] = vocab_dict[\" \"]\n",
    "del vocab_dict[\" \"]"
   ]
  },
  {
   "cell_type": "code",
   "execution_count": null,
   "metadata": {},
   "outputs": [],
   "source": [
    "# Adding \"[UNK]\" and \"[PAD]\" special tokens to the vocabulary dictionary\n",
    "vocab_dict[\"[UNK]\"] = len(vocab_dict)\n",
    "vocab_dict[\"[PAD]\"] = len(vocab_dict)\n",
    "len(vocab_dict)"
   ]
  },
  {
   "cell_type": "code",
   "execution_count": null,
   "metadata": {},
   "outputs": [],
   "source": [
    "# Save the vocabulary dictionary to a JSON file\n",
    "import json\n",
    "with open('vocab.json', 'w') as vocab_file:\n",
    "    json.dump(vocab_dict, vocab_file)"
   ]
  },
  {
   "cell_type": "code",
   "execution_count": null,
   "metadata": {},
   "outputs": [],
   "source": [
    "# Load the configuration from the model checkpoint\n",
    "from transformers import AutoConfig\n",
    "\n",
    "config = AutoConfig.from_pretrained(model_checkpoint)\n",
    "\n",
    "# Set the tokenizer type based on the loaded configuration\n",
    "tokenizer_type = config.model_type if config.tokenizer_class is None else None\n",
    "\n",
    "# Keep the configuration only if a tokenizer class is defined in it, else set it to None\n",
    "config = config if config.tokenizer_class is not None else None"
   ]
  },
  {
   "cell_type": "code",
   "execution_count": null,
   "metadata": {},
   "outputs": [],
   "source": [
    "# Load the tokenizer using the defined configuration and tokenizer type\n",
    "from transformers import AutoTokenizer\n",
    "\n",
    "tokenizer = AutoTokenizer.from_pretrained(\n",
    "  \"./\",  # Load from the current directory\n",
    "  config=config,  # Use the configuration obtained previously\n",
    "  tokenizer_type=tokenizer_type,  # Use the tokenizer type determined earlier\n",
    "  unk_token=\"[UNK]\",  # Define the unknown token\n",
    "  pad_token=\"[PAD]\",  # Define the padding token\n",
    "  word_delimiter_token=\"|\",  # Define the word delimiter token\n",
    ")"
   ]
  },
  {
   "cell_type": "code",
   "execution_count": null,
   "metadata": {},
   "outputs": [],
   "source": [
    "# Setting up the repository name for the model\n",
    "model_checkpoint_name = model_checkpoint.split(\"/\")[-1]  # Extracting the model name from the checkpoint\n",
    "repo_name = f\"{model_checkpoint_name}-name-of-dataset\"  # Setting the repository name"
   ]
  },
  {
   "cell_type": "code",
   "execution_count": null,
   "metadata": {},
   "outputs": [],
   "source": [
    "# Retrieving the audio data of the first record in the training dataset\n",
    "dataset[\"train\"][0][\"audio\"]"
   ]
  },
  {
   "cell_type": "code",
   "execution_count": null,
   "metadata": {},
   "outputs": [],
   "source": [
    "# Selecting a random example from the training dataset and playing its audio\n",
    "import IPython.display as ipd\n",
    "import numpy as np\n",
    "import random\n",
    "\n",
    "# Generate a random index within the range of the dataset\n",
    "rand_int = random.randint(0, len(dataset[\"train\"]))\n",
    "\n",
    "# Print the text corresponding to the randomly selected example\n",
    "print(dataset[\"train\"][rand_int][\"text\"])\n",
    "\n",
    "# Play the audio of the randomly selected example\n",
    "# The audio data is converted to a numpy array and the sampling rate is set to 16000 Hz\n",
    "ipd.Audio(data=np.asarray(dataset[\"train\"][rand_int][\"audio\"][\"array\"]), autoplay=True, rate=16000)"
   ]
  },
  {
   "cell_type": "code",
   "execution_count": null,
   "metadata": {},
   "outputs": [],
   "source": [
    "# Generating a random index, then printing the corresponding target text, input array shape, and sampling rate\n",
    "import numpy as np\n",
    "import random\n",
    "\n",
    "# Generate a random index within the range of the dataset\n",
    "rand_int = random.randint(0, len(dataset[\"train\"]))\n",
    "\n",
    "# Print the target text of the randomly selected example\n",
    "print(\"Target text:\", dataset[\"train\"][rand_int][\"text\"])\n",
    "\n",
    "# Print the shape of the audio array of the randomly selected example\n",
    "# The audio data is converted to a numpy array for this\n",
    "print(\"Input array shape:\", np.asarray(dataset[\"train\"][rand_int][\"audio\"][\"array\"]).shape)\n",
    "\n",
    "# Print the sampling rate of the audio of the randomly selected example\n",
    "print(\"Sampling rate:\", dataset[\"train\"][rand_int][\"audio\"][\"sampling_rate\"])"
   ]
  },
  {
   "cell_type": "code",
   "execution_count": null,
   "metadata": {},
   "outputs": [],
   "source": [
    "# Loading the feature extractor associated with the model checkpoint\n",
    "from transformers import AutoFeatureExtractor\n",
    "\n",
    "# Initialize the feature extractor using the model checkpoint\n",
    "# The feature extractor will be used to convert the audio data into the format expected by the model\n",
    "feature_extractor = AutoFeatureExtractor.from_pretrained(model_checkpoint)"
   ]
  },
  {
   "cell_type": "code",
   "execution_count": null,
   "metadata": {},
   "outputs": [],
   "source": [
    "# Create a processor combining the tokenizer and feature extractor\n",
    "from transformers import Wav2Vec2Processor\n",
    "\n",
    "# The processor handles end-to-end transformation from raw audio data to model-ready input features\n",
    "processor = Wav2Vec2Processor(feature_extractor=feature_extractor, tokenizer=tokenizer)"
   ]
  },
  {
   "cell_type": "code",
   "execution_count": null,
   "metadata": {},
   "outputs": [],
   "source": [
    "# Function to process the datasets and prepare them for the model\n",
    "def prepare_dataset(batch):\n",
    "    # Extract the audio from the batch\n",
    "    audio = batch[\"audio\"]\n",
    "\n",
    "    # Process the audio data to get the input_values (i.e., the speech features)\n",
    "    batch[\"input_values\"] = processor(audio[\"array\"], sampling_rate=audio[\"sampling_rate\"]).input_values[0]\n",
    "    \n",
    "    # Get the length of the input_values\n",
    "    batch[\"input_length\"] = len(batch[\"input_values\"])\n",
    "    \n",
    "    # Process the target text data to get the corresponding labels (i.e., the token IDs)\n",
    "    with processor.as_target_processor():\n",
    "        batch[\"labels\"] = processor(batch[\"text\"]).input_ids\n",
    "    return batch\n"
   ]
  },
  {
   "cell_type": "code",
   "execution_count": null,
   "metadata": {},
   "outputs": [],
   "source": [
    "# Process the dataset using the 'prepare_dataset' function in parallel\n",
    "# Remove original columns to reduce memory and storage consumption and set number of processes to be used to 4.\n",
    "dataset = dataset.map(prepare_dataset, remove_columns=dataset.column_names[\"train\"], num_proc=4)"
   ]
  },
  {
   "cell_type": "code",
   "execution_count": null,
   "metadata": {},
   "outputs": [],
   "source": [
    "# Filter the training data to only include examples with an input length less than a specified maximum length (in seconds)\n",
    "dataset[\"train\"] = dataset[\"train\"].filter(\n",
    "    lambda x: x < max_input_length_in_sec * processor.feature_extractor.sampling_rate, \n",
    "    input_columns=[\"input_length\"]\n",
    ")\n"
   ]
  },
  {
   "cell_type": "code",
   "execution_count": null,
   "metadata": {},
   "outputs": [],
   "source": [
    "# Define a custom data collator for handling padding of input data\n",
    "@dataclass\n",
    "class DataCollatorCTCWithPadding:\n",
    "    \n",
    "    processor: Wav2Vec2Processor\n",
    "    padding: Union[bool, str] = True\n",
    "    max_length: Optional[int] = None\n",
    "    max_length_labels: Optional[int] = None\n",
    "    pad_to_multiple_of: Optional[int] = None\n",
    "    pad_to_multiple_of_labels: Optional[int] = None\n",
    "\n",
    "    def __call__(self, features: List[Dict[str, Union[List[int], torch.Tensor]]]) -> Dict[str, torch.Tensor]:\n",
    "        # Split inputs and labels - they have different lengths and require different padding methods\n",
    "        input_features = [{\"input_values\": feature[\"input_values\"]} for feature in features]\n",
    "        label_features = [{\"input_ids\": feature[\"labels\"]} for feature in features]\n",
    "\n",
    "        # Pad the input features\n",
    "        batch = self.processor.pad(\n",
    "            input_features,\n",
    "            padding=self.padding,\n",
    "            max_length=self.max_length,\n",
    "            pad_to_multiple_of=self.pad_to_multiple_of,\n",
    "            return_tensors=\"pt\",\n",
    "        )\n",
    "        \n",
    "        # Pad the label features\n",
    "        with self.processor.as_target_processor():\n",
    "            labels_batch = self.processor.pad(\n",
    "                label_features,\n",
    "                padding=self.padding,\n",
    "                max_length=self.max_length_labels,\n",
    "                pad_to_multiple_of=self.pad_to_multiple_of_labels,\n",
    "                return_tensors=\"pt\",\n",
    "            )\n",
    "\n",
    "        # Replace padding with -100 to ignore these tokens in loss computation\n",
    "        labels = labels_batch[\"input_ids\"].masked_fill(labels_batch.attention_mask.ne(1), -100)\n",
    "\n",
    "        batch[\"labels\"] = labels\n",
    "\n",
    "        return batch"
   ]
  },
  {
   "cell_type": "code",
   "execution_count": null,
   "metadata": {},
   "outputs": [],
   "source": [
    "# Create an instance of the DataCollatorCTCWithPadding class\n",
    "data_collator = DataCollatorCTCWithPadding(processor=processor, padding=True)"
   ]
  },
  {
   "cell_type": "code",
   "execution_count": null,
   "metadata": {},
   "outputs": [],
   "source": [
    "# Load the Word Error Rate (WER) metric\n",
    "from datasets import load_metric\n",
    "wer_metric = load_metric(\"wer\")"
   ]
  },
  {
   "cell_type": "code",
   "execution_count": null,
   "metadata": {},
   "outputs": [],
   "source": [
    "def compute_metrics(pred):\n",
    "    \"\"\"\n",
    "    Computes the Word Error Rate (WER) of the model's predictions.\n",
    "    \"\"\"\n",
    "    pred_logits = pred.predictions\n",
    "    pred_ids = np.argmax(pred_logits, axis=-1)\n",
    "\n",
    "    # Replace -100 in the labels as they are a special value for padding.\n",
    "    pred.label_ids[pred.label_ids == -100] = processor.tokenizer.pad_token_id\n",
    "\n",
    "    # Decode the predictions and labels to texts\n",
    "    pred_str = processor.batch_decode(pred_ids)\n",
    "    label_str = processor.batch_decode(pred.label_ids, group_tokens=False)\n",
    "\n",
    "    # Compute WER using the decoded texts\n",
    "    wer = wer_metric.compute(predictions=pred_str, references=label_str)\n",
    "\n",
    "    return {\"wer\": wer}"
   ]
  },
  {
   "cell_type": "code",
   "execution_count": null,
   "metadata": {},
   "outputs": [],
   "source": [
    "# Initializing the pre-trained model for CTC\n",
    "model = AutoModelForCTC.from_pretrained(\n",
    "    model_checkpoint,\n",
    "    attention_dropout=0.1,\n",
    "    hidden_dropout=0.1,  \n",
    "    feat_proj_dropout=0.0, \n",
    "    mask_time_prob=0.05, \n",
    "    layerdrop=0.1,  \n",
    "    ctc_loss_reduction=\"mean\", \n",
    "    pad_token_id=processor.tokenizer.pad_token_id, \n",
    "    vocab_size=len(processor.tokenizer)\n",
    ")"
   ]
  },
  {
   "cell_type": "code",
   "execution_count": null,
   "metadata": {},
   "outputs": [],
   "source": [
    "# Setting up the training configuration\n",
    "training_args = TrainingArguments(\n",
    "  output_dir=repo_name,\n",
    "  group_by_length=True, \n",
    "  per_device_train_batch_size=batch_size, \n",
    "  gradient_accumulation_steps=2,  \n",
    "  evaluation_strategy=\"steps\",  \n",
    "  num_train_epochs=6,  \n",
    "  gradient_checkpointing=True,  \n",
    "  fp16=False, \n",
    "  save_steps=400,  \n",
    "  eval_steps=400,  \n",
    "  logging_steps=400,  \n",
    "  learning_rate=3e-4,  \n",
    "  warmup_steps=500, \n",
    "  save_total_limit=2,  \n",
    "  push_to_hub=False,  \n",
    ")"
   ]
  },
  {
   "cell_type": "code",
   "execution_count": null,
   "metadata": {},
   "outputs": [],
   "source": [
    "# Initializing the trainer\n",
    "from transformers import Trainer\n",
    "\n",
    "trainer = Trainer(\n",
    "    model=model,\n",
    "    data_collator=data_collator,\n",
    "    args=training_args,\n",
    "    compute_metrics=compute_metrics,\n",
    "    train_dataset=dataset[\"train\"],\n",
    "    eval_dataset=dataset[\"test\"],\n",
    "    tokenizer=processor.feature_extractor,\n",
    ")"
   ]
  },
  {
   "cell_type": "code",
   "execution_count": null,
   "metadata": {},
   "outputs": [],
   "source": [
    "# Start the training process\n",
    "trainer.train()"
   ]
  },
  {
   "cell_type": "code",
   "execution_count": null,
   "metadata": {},
   "outputs": [],
   "source": [
    "# Evaluate the model on the validation set\n",
    "test_results = trainer.evaluate(dataset[\"validation\"])"
   ]
  },
  {
   "cell_type": "code",
   "execution_count": null,
   "metadata": {},
   "outputs": [],
   "source": [
    "# Display the evaluation results for the validation set\n",
    "test_results"
   ]
  }
 ],
 "metadata": {
  "kernelspec": {
   "display_name": "Python 3.9.2 64-bit",
   "language": "python",
   "name": "python3"
  },
  "language_info": {
   "codemirror_mode": {
    "name": "ipython",
    "version": 3
   },
   "file_extension": ".py",
   "mimetype": "text/x-python",
   "name": "python",
   "nbconvert_exporter": "python",
   "pygments_lexer": "ipython3",
   "version": "3.11.3"
  },
  "orig_nbformat": 4,
  "vscode": {
   "interpreter": {
    "hash": "31f2aee4e71d21fbe5cf8b01ff0e069b9275f58929596ceb00d14d90e3e16cd6"
   }
  }
 },
 "nbformat": 4,
 "nbformat_minor": 2
}
